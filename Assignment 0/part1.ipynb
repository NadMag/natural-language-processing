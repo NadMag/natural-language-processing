{
  "nbformat": 4,
  "nbformat_minor": 0,
  "metadata": {
    "colab": {
      "provenance": [],
      "toc_visible": true
    },
    "kernelspec": {
      "name": "python3",
      "display_name": "Python 3"
    },
    "language_info": {
      "name": "python"
    },
    "accelerator": "GPU",
    "gpuClass": "standard"
  },
  "cells": [
    {
      "cell_type": "code",
      "execution_count": null,
      "metadata": {
        "colab": {
          "base_uri": "https://localhost:8080/",
          "height": 282
        },
        "id": "RnM9jInf5Jg1",
        "outputId": "dec05bd4-17cc-462c-fc93-e27df89b14af"
      },
      "outputs": [
        {
          "output_type": "execute_result",
          "data": {
            "text/plain": [
              "[<matplotlib.lines.Line2D at 0x7f76905040d0>]"
            ]
          },
          "metadata": {},
          "execution_count": 1
        },
        {
          "output_type": "display_data",
          "data": {
            "text/plain": [
              "<Figure size 432x288 with 1 Axes>"
            ],
            "image/png": "[encoded data removed]"
          },
          "metadata": {
            "needs_background": "light"
          }
        }
      ],
      "source": [
        "import numpy as np\n",
        "from matplotlib.pyplot import plot\n",
        "import torch\n",
        "\n",
        "def y(x):\n",
        "  return 2*x + 3\n",
        "\n",
        "range = np.linspace(0, 10, 2)\n",
        "ys = [y(x) for x in range]\n",
        "\n",
        "plot(range, ys)"
      ]
    },
    {
      "cell_type": "code",
      "source": [
        "def y(x):\n",
        "  return x**2\n",
        "\n",
        "range = np.linspace(0, 10, 20)\n",
        "ys = [y(x) for x in range]\n",
        "\n",
        "plot(range, ys)"
      ],
      "metadata": {
        "colab": {
          "base_uri": "https://localhost:8080/",
          "height": 282
        },
        "id": "TBNLMlCt5-b7",
        "outputId": "3fa6033d-0d26-4774-a44a-805c7a6b788d"
      },
      "execution_count": null,
      "outputs": [
        {
          "output_type": "execute_result",
          "data": {
            "text/plain": [
              "[<matplotlib.lines.Line2D at 0x7f76903a6400>]"
            ]
          },
          "metadata": {},
          "execution_count": 2
        },
        {
          "output_type": "display_data",
          "data": {
            "text/plain": [
              "<Figure size 432x288 with 1 Axes>"
            ],
            "image/png": "[encoded data removed]"
          },
          "metadata": {
            "needs_background": "light"
          }
        }
      ]
    },
    {
      "cell_type": "code",
      "source": [
        "def y(x):\n",
        "  return x**2 + np.random.normal(0,1,1)\n",
        "\n",
        "range = np.linspace(0, 10, 20)\n",
        "ys = [y(x) for x in range]\n",
        "\n",
        "plot(range, ys)"
      ],
      "metadata": {
        "colab": {
          "base_uri": "https://localhost:8080/",
          "height": 282
        },
        "id": "DBeDpVhb6VaX",
        "outputId": "8cbf28b2-741a-4562-8ef2-32091c85fe97"
      },
      "execution_count": null,
      "outputs": [
        {
          "output_type": "execute_result",
          "data": {
            "text/plain": [
              "[<matplotlib.lines.Line2D at 0x7f769031e9d0>]"
            ]
          },
          "metadata": {},
          "execution_count": 3
        },
        {
          "output_type": "display_data",
          "data": {
            "text/plain": [
              "<Figure size 432x288 with 1 Axes>"
            ],
            "image/png": "[encoded data removed]"
          },
          "metadata": {
            "needs_background": "light"
          }
        }
      ]
    },
    {
      "cell_type": "code",
      "source": [
        "arr = np.random.random(size=100)\n",
        "avg = np.average(arr)\n",
        "var = np.var(arr)\n",
        "print(avg)\n",
        "print(var)"
      ],
      "metadata": {
        "colab": {
          "base_uri": "https://localhost:8080/"
        },
        "id": "nDBdCKva60qD",
        "outputId": "a3a5ab26-d6d1-4fcb-99a0-19632347ef3f"
      },
      "execution_count": null,
      "outputs": [
        {
          "output_type": "stream",
          "name": "stdout",
          "text": [
            "0.5845438210276447\n",
            "0.07759617216099182\n"
          ]
        }
      ]
    },
    {
      "cell_type": "code",
      "source": [
        "np.argpartition(arr, 10)[-10:]"
      ],
      "metadata": {
        "colab": {
          "base_uri": "https://localhost:8080/"
        },
        "id": "ojfujWmp7rBl",
        "outputId": "3af07900-61ee-455d-d724-09061c4b3ae1"
      },
      "execution_count": null,
      "outputs": [
        {
          "output_type": "execute_result",
          "data": {
            "text/plain": [
              "array([90, 25, 92, 18, 11, 95, 96, 97,  2, 49])"
            ]
          },
          "metadata": {},
          "execution_count": 5
        }
      ]
    },
    {
      "cell_type": "code",
      "source": [
        "import math\n",
        "\n",
        "def sigmoid(x):\n",
        "  return 1 / (1 + math.exp(-x))\n",
        "\n",
        "range = np.linspace(-10, 10, 40)\n",
        "pos = [sigmoid(x) for x in range]\n",
        "neg = [sigmoid(x*(-1)) for x in range]\n",
        "der = [sigmoid(x)*(1-sigmoid(x)) for x in range]\n",
        "plot(range, pos)\n",
        "plot(range, neg)\n",
        "plot(range, der)\n",
        "\n",
        "# the derviative of the sigmoid of x, i.e sigmoid(x) is: sigmoid(x)*(1-sigmoid(x)) (which goes to zero for big values of x)\n",
        "# the relation between sigmoid(x) and sigmoid(-x) is that sigmoid(x) + sigmoid(-x) = 1"
      ],
      "metadata": {
        "colab": {
          "base_uri": "https://localhost:8080/",
          "height": 282
        },
        "id": "TNZrXcKqAgyc",
        "outputId": "9e8bf8bc-b9be-4d9e-a5d3-028b10b4d3db"
      },
      "execution_count": null,
      "outputs": [
        {
          "output_type": "execute_result",
          "data": {
            "text/plain": [
              "[<matplotlib.lines.Line2D at 0x7f76902a7370>]"
            ]
          },
          "metadata": {},
          "execution_count": 6
        },
        {
          "output_type": "display_data",
          "data": {
            "text/plain": [
              "<Figure size 432x288 with 1 Axes>"
            ],
            "image/png": "[encoded data removed]"
          },
          "metadata": {
            "needs_background": "light"
          }
        }
      ]
    },
    {
      "cell_type": "code",
      "source": [
        "torch.cuda.is_available()"
      ],
      "metadata": {
        "colab": {
          "base_uri": "https://localhost:8080/"
        },
        "id": "g9VJuKJ_FLtl",
        "outputId": "5410e27f-e1f0-476e-b3ca-74ebf433ad3b"
      },
      "execution_count": null,
      "outputs": [
        {
          "output_type": "execute_result",
          "data": {
            "text/plain": [
              "True"
            ]
          },
          "metadata": {},
          "execution_count": 7
        }
      ]
    },
    {
      "cell_type": "code",
      "source": [
        "x = torch.rand(size=(3,))\n",
        "print(x.device)\n",
        "x = x.to('cuda')\n",
        "print(x.device)\n"
      ],
      "metadata": {
        "colab": {
          "base_uri": "https://localhost:8080/"
        },
        "id": "tLOj6LctEMbO",
        "outputId": "9f2c4e81-92a8-42af-98e9-195c9ebd2110"
      },
      "execution_count": null,
      "outputs": [
        {
          "output_type": "stream",
          "name": "stdout",
          "text": [
            "cpu\n",
            "cuda:0\n"
          ]
        }
      ]
    }
  ]
}